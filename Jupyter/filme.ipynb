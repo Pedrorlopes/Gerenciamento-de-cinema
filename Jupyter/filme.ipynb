{
 "cells": [
  {
   "cell_type": "code",
   "execution_count": 1,
   "metadata": {},
   "outputs": [
    {
     "ename": "IndentationError",
     "evalue": "unindent does not match any outer indentation level (<tokenize>, line 6)",
     "output_type": "error",
     "traceback": [
      "\u001b[0;36m  File \u001b[0;32m<tokenize>:6\u001b[0;36m\u001b[0m\n\u001b[0;31m    def adicionar_filme(self, filme):\u001b[0m\n\u001b[0m    ^\u001b[0m\n\u001b[0;31mIndentationError\u001b[0m\u001b[0;31m:\u001b[0m unindent does not match any outer indentation level\n"
     ]
    }
   ],
   "source": [
    "  def __init__(self, db_uri='sqlite:///cinema.db'):\n",
    "        self.engine = create_engine(db_uri)\n",
    "        Session = sessionmaker(bind=self.engine)\n",
    "        self.session = Session()\n",
    "\n",
    "    def adicionar_filme(self, filme):\n",
    "        self.session.add(filme)\n",
    "        self.session.commit()\n",
    "\n",
    "    def buscar_filme_por_id(self, filme_id):\n",
    "        return self.session.query(Filme).filter_by(id=filme_id).first()\n",
    "\n",
    "    def listar_filmes(self):\n",
    "        return self.session.query(Filme).all()\n",
    "\n",
    "    def atualizar_filme(self, filme_id, novos_dados):\n",
    "        filme = self.session.query(Filme).filter_by(id=filme_id).first()\n",
    "        if filme:\n",
    "            for key, value in novos_dados.items():\n",
    "                setattr(filme, key, value)\n",
    "            self.session.commit()\n",
    "        else:\n",
    "            print(f\"Filme com ID {filme_id} não encontrado.\")\n",
    "\n",
    "    def excluir_filme(self, filme_id):\n",
    "        filme = self.session.query(Filme).filter_by(id=filme_id).first()\n",
    "        if filme:\n",
    "            self.session.delete(filme)\n",
    "            self.session.commit()\n",
    "            print(f\"Filme com ID {filme_id} excluído.\")\n",
    "        else:\n",
    "            print(f\"Filme com ID {filme_id} não encontrado.\")"
   ]
  }
 ],
 "metadata": {
  "kernelspec": {
   "display_name": "Python 3",
   "language": "python",
   "name": "python3"
  },
  "language_info": {
   "codemirror_mode": {
    "name": "ipython",
    "version": 3
   },
   "file_extension": ".py",
   "mimetype": "text/x-python",
   "name": "python",
   "nbconvert_exporter": "python",
   "pygments_lexer": "ipython3",
   "version": "3.10.13"
  }
 },
 "nbformat": 4,
 "nbformat_minor": 2
}
