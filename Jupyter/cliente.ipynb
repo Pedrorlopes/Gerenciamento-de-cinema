{
 "cells": [
  {
   "cell_type": "code",
   "execution_count": 1,
   "metadata": {},
   "outputs": [
    {
     "ename": "SyntaxError",
     "evalue": "invalid syntax (3899575743.py, line 1)",
     "output_type": "error",
     "traceback": [
      "\u001b[0;36m  Cell \u001b[0;32mIn[1], line 1\u001b[0;36m\u001b[0m\n\u001b[0;31m    ClienteController:\u001b[0m\n\u001b[0m                      ^\u001b[0m\n\u001b[0;31mSyntaxError\u001b[0m\u001b[0;31m:\u001b[0m invalid syntax\n"
     ]
    }
   ],
   "source": [
    "ClienteController:\n",
    "    def __init__(self, db_uri='sqlite:///cinema.db'):\n",
    "        self.engine = create_engine(db_uri)\n",
    "        Session = sessionmaker(bind=self.engine)\n",
    "        self.session = Session()\n",
    "\n",
    "    def adicionar_cliente(self, cliente):\n",
    "        self.session.add(cliente)\n",
    "        self.session.commit()\n",
    "\n",
    "    def buscar_cliente_por_id(self, cliente_id):\n",
    "        return self.session.query(Cliente).filter_by(id=cliente_id).first()\n",
    "\n",
    "    def listar_clientes(self):\n",
    "        return self.session.query(Cliente).all()\n",
    "\n",
    "    def atualizar_cliente(self, cliente_id, novos_dados):\n",
    "        cliente = self.session.query(Cliente).filter_by(id=cliente_id).first()\n",
    "        if cliente:\n",
    "            for key, value in novos_dados.items():\n",
    "                setattr(cliente, key, value)\n",
    "            self.session.commit()\n",
    "        else:\n",
    "            print(f\"Cliente com ID {cliente_id} não encontrado.\")\n",
    "\n",
    "    def excluir_cliente(self, cliente_id):\n",
    "        cliente = self.session.query(Cliente).filter_by(id=cliente_id).first()\n",
    "        if cliente:\n",
    "            self.session.delete(cliente)\n",
    "            self.session.commit()\n",
    "            print(f\"Cliente com ID {cliente_id} excluído.\")\n",
    "        else:\n",
    "            print(f\"Cliente com ID {cliente_id} não encontrado.\")\n",
    "\n"
   ]
  }
 ],
 "metadata": {
  "kernelspec": {
   "display_name": "Python 3",
   "language": "python",
   "name": "python3"
  },
  "language_info": {
   "codemirror_mode": {
    "name": "ipython",
    "version": 3
   },
   "file_extension": ".py",
   "mimetype": "text/x-python",
   "name": "python",
   "nbconvert_exporter": "python",
   "pygments_lexer": "ipython3",
   "version": "3.10.13"
  }
 },
 "nbformat": 4,
 "nbformat_minor": 2
}
