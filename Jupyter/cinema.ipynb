{
 "cells": [
  {
   "cell_type": "code",
   "execution_count": 2,
   "metadata": {},
   "outputs": [
    {
     "ename": "IndentationError",
     "evalue": "unindent does not match any outer indentation level (<tokenize>, line 5)",
     "output_type": "error",
     "traceback": [
      "\u001b[0;36m  File \u001b[0;32m<tokenize>:5\u001b[0;36m\u001b[0m\n\u001b[0;31m    def adicionar_filme(self, filme):\u001b[0m\n\u001b[0m    ^\u001b[0m\n\u001b[0;31mIndentationError\u001b[0m\u001b[0;31m:\u001b[0m unindent does not match any outer indentation level\n"
     ]
    }
   ],
   "source": [
    "def __init__(self, nome, session):\n",
    "        self.nome = nome\n",
    "        self.session = session\n",
    "\n",
    "    def adicionar_filme(self, filme):\n",
    "        self.session.add(filme)\n",
    "        self.session.commit()\n",
    "\n",
    "    def adicionar_sala(self, sala):\n",
    "        self.session.add(sala)\n",
    "        self.session.commit()\n",
    "\n",
    "    def adicionar_sessao(self, sessao):\n",
    "        self.session.add(sessao)\n",
    "        self.session.commit()\n",
    "\n",
    "    def vender_ingresso(self, sessao_id, cliente, nota_avaliacao):\n",
    "        sessao = self.session.query(Sessao).filter_by(id=sessao_id).first()\n",
    "        if sessao:\n",
    "            filme = sessao.filme\n",
    "            if filme.estoque > 0:\n",
    "                if 0 <= nota_avaliacao <= 10:\n",
    "                    reserva = Reserva(filme=filme, cliente=cliente, sessao=sessao, nota_avaliacao=nota_avaliacao)\n",
    "                    filme.estoque -= 1\n",
    "                    self.session.add(reserva)\n",
    "                    self.session.commit()\n",
    "                    print(f\"Ingresso vendido para {cliente.nome} para o filme {filme.titulo} na sessão {sessao.horario}.\")\n",
    "                else:\n",
    "                    print(\"A nota de avaliação deve estar entre 0 e 10.\")\n",
    "            else:\n",
    "                print(f\"Desculpe, {filme.titulo} está fora de estoque.\")\n",
    "        else:\n",
    "            print(f\"Desculpe, a sessão com ID {sessao_id} não está disponível.\")\n",
    "\n",
    "\n",
    "def validar_cpf(cpf):\n",
    "    if len(cpf) != 11:\n",
    "        return False\n",
    "    if not cpf.isdigit():\n",
    "        return False\n",
    "    return True"
   ]
  }
 ],
 "metadata": {
  "kernelspec": {
   "display_name": "Python 3",
   "language": "python",
   "name": "python3"
  },
  "language_info": {
   "codemirror_mode": {
    "name": "ipython",
    "version": 3
   },
   "file_extension": ".py",
   "mimetype": "text/x-python",
   "name": "python",
   "nbconvert_exporter": "python",
   "pygments_lexer": "ipython3",
   "version": "3.10.13"
  }
 },
 "nbformat": 4,
 "nbformat_minor": 2
}
