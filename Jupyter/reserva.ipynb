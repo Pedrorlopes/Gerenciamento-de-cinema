{
 "cells": [
  {
   "cell_type": "code",
   "execution_count": null,
   "metadata": {},
   "outputs": [],
   "source": [
    "def __init__(self, db_uri='sqlite:///cinema.db'):\n",
    "        self.engine = create_engine(db_uri)\n",
    "        Session = sessionmaker(bind=self.engine)\n",
    "        self.session = Session()\n",
    "\n",
    "    def adicionar_reserva(self, reserva):\n",
    "        self.session.add(reserva)\n",
    "        self.session.commit()\n",
    "\n",
    "    def buscar_reserva_por_id(self, reserva_id):\n",
    "        return self.session.query(Reserva).filter_by(id=reserva_id).first()\n",
    "\n",
    "    def listar_reservas(self):\n",
    "        return self.session.query(Reserva).all()\n",
    "\n",
    "    def excluir_reserva(self, reserva_id):\n",
    "        reserva = self.session.query(Reserva).filter_by(id=reserva_id).first()\n",
    "        if reserva:\n",
    "            self.session.delete(reserva)\n",
    "            self.session.commit()\n",
    "            print(f\"Reserva com ID {reserva_id} excluída.\")\n",
    "        else:\n",
    "            print(f\"Reserva com ID {reserva_id} não encontrada.\")"
   ]
  }
 ],
 "metadata": {
  "language_info": {
   "name": "python"
  }
 },
 "nbformat": 4,
 "nbformat_minor": 2
}
