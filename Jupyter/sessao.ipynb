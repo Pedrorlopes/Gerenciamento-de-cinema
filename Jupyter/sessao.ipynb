{
 "cells": [
  {
   "cell_type": "code",
   "execution_count": 2,
   "metadata": {},
   "outputs": [
    {
     "ename": "IndentationError",
     "evalue": "unindent does not match any outer indentation level (<tokenize>, line 6)",
     "output_type": "error",
     "traceback": [
      "\u001b[0;36m  File \u001b[0;32m<tokenize>:6\u001b[0;36m\u001b[0m\n\u001b[0;31m    def adicionar_sessao(self, sessao):\u001b[0m\n\u001b[0m    ^\u001b[0m\n\u001b[0;31mIndentationError\u001b[0m\u001b[0;31m:\u001b[0m unindent does not match any outer indentation level\n"
     ]
    }
   ],
   "source": [
    "def __init__(self, db_uri='sqlite:///cinema.db'):\n",
    "        self.engine = create_engine(db_uri)\n",
    "        Session = sessionmaker(bind=self.engine)\n",
    "        self.session = Session()\n",
    "\n",
    "    def adicionar_sessao(self, sessao):\n",
    "        self.session.add(sessao)\n",
    "        self.session.commit()\n",
    "\n",
    "    def buscar_sessao_por_id(self, sessao_id):\n",
    "        return self.session.query(Sessao).filter_by(id=sessao_id).first()\n",
    "\n",
    "    def listar_sessoes(self):\n",
    "        return self.session.query(Sessao).all()\n",
    "\n",
    "    def excluir_sessao(self, sessao_id):\n",
    "        sessao = self.session.query(Sessao).filter_by(id=sessao_id).first()\n",
    "        if sessao:\n",
    "            self.session.delete(sessao)\n",
    "            self.session.commit()\n",
    "            print(f\"Sessão com ID {sessao_id} excluída.\")\n",
    "        else:\n",
    "            print(f\"Sessão com ID {sessao_id} não encontrada.\")"
   ]
  }
 ],
 "metadata": {
  "kernelspec": {
   "display_name": "Python 3",
   "language": "python",
   "name": "python3"
  },
  "language_info": {
   "codemirror_mode": {
    "name": "ipython",
    "version": 3
   },
   "file_extension": ".py",
   "mimetype": "text/x-python",
   "name": "python",
   "nbconvert_exporter": "python",
   "pygments_lexer": "ipython3",
   "version": "3.10.13"
  }
 },
 "nbformat": 4,
 "nbformat_minor": 2
}
