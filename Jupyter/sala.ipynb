{
 "cells": [
  {
   "cell_type": "code",
   "execution_count": 4,
   "metadata": {},
   "outputs": [
    {
     "ename": "IndentationError",
     "evalue": "unindent does not match any outer indentation level (<tokenize>, line 6)",
     "output_type": "error",
     "traceback": [
      "\u001b[0;36m  File \u001b[0;32m<tokenize>:6\u001b[0;36m\u001b[0m\n\u001b[0;31m    def adicionar_sala(self, sala):\u001b[0m\n\u001b[0m    ^\u001b[0m\n\u001b[0;31mIndentationError\u001b[0m\u001b[0;31m:\u001b[0m unindent does not match any outer indentation level\n"
     ]
    }
   ],
   "source": [
    " def __init__(self, db_uri='sqlite:///cinema.db'):\n",
    "        self.engine = create_engine(db_uri)\n",
    "        Session = sessionmaker(bind=self.engine)\n",
    "        self.session = Session()\n",
    "\n",
    "    def adicionar_sala(self, sala):\n",
    "        self.session.add(sala)\n",
    "        self.session.commit()\n",
    "\n",
    "    def buscar_sala_por_id(self, sala_id):\n",
    "        return self.session.query(Sala).filter_by(id=sala_id).first()\n",
    "\n",
    "    def listar_salas(self):\n",
    "        return self.session.query(Sala).all()\n",
    "\n",
    "    def atualizar_sala(self, sala_id, novos_dados):\n",
    "        sala = self.session.query(Sala).filter_by(id=sala_id).first()\n",
    "        if sala:\n",
    "            for key, value in novos_dados.items():\n",
    "                setattr(sala, key, value)\n",
    "            self.session.commit()\n",
    "        else:\n",
    "            print(f\"Sala com ID {sala_id} não encontrada.\")\n",
    "\n",
    "    def excluir_sala(self, sala_id):\n",
    "        sala = self.session.query(Sala).filter_by(id=sala_id).first()\n",
    "        if sala:\n",
    "            self.session.delete(sala)\n",
    "            self.session.commit()\n",
    "            print(f\"Sala com ID {sala_id} excluída.\")\n",
    "        else:\n",
    "            print(f\"Sala com ID {sala_id} não encontrada.\")"
   ]
  }
 ],
 "metadata": {
  "kernelspec": {
   "display_name": "Python 3",
   "language": "python",
   "name": "python3"
  },
  "language_info": {
   "codemirror_mode": {
    "name": "ipython",
    "version": 3
   },
   "file_extension": ".py",
   "mimetype": "text/x-python",
   "name": "python",
   "nbconvert_exporter": "python",
   "pygments_lexer": "ipython3",
   "version": "3.10.13"
  }
 },
 "nbformat": 4,
 "nbformat_minor": 2
}
